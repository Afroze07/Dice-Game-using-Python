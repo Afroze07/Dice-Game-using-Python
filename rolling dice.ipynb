{
 "cells": [
  {
   "cell_type": "code",
   "execution_count": 1,
   "id": "39c97e8d",
   "metadata": {},
   "outputs": [],
   "source": [
    "import random"
   ]
  },
  {
   "cell_type": "code",
   "execution_count": 4,
   "id": "e4400cba",
   "metadata": {},
   "outputs": [
    {
     "name": "stdout",
     "output_type": "stream",
     "text": [
      "6\n",
      "Want to roll the dice again?(y/n): y\n",
      "6\n",
      "Want to roll the dice again?(y/n): y\n",
      "6\n",
      "Want to roll the dice again?(y/n): y\n",
      "3\n",
      "Want to roll the dice again?(y/n): y\n",
      "6\n",
      "Want to roll the dice again?(y/n): y\n",
      "6\n",
      "Want to roll the dice again?(y/n): y\n",
      "1\n",
      "Want to roll the dice again?(y/n): y\n",
      "6\n",
      "Want to roll the dice again?(y/n): y\n",
      "3\n",
      "Want to roll the dice again?(y/n): y\n",
      "1\n",
      "Want to roll the dice again?(y/n): y\n",
      "2\n",
      "Want to roll the dice again?(y/n): y\n",
      "2\n",
      "Want to roll the dice again?(y/n): y\n",
      "5\n",
      "Want to roll the dice again?(y/n): y\n",
      "3\n",
      "Want to roll the dice again?(y/n): y\n",
      "2\n",
      "Want to roll the dice again?(y/n): y\n",
      "4\n",
      "Want to roll the dice again?(y/n): y\n",
      "1\n",
      "Want to roll the dice again?(y/n): n\n"
     ]
    }
   ],
   "source": [
    "again =True\n",
    "while again:\n",
    "    print(random.randint(1,6))\n",
    "    another_roll=input(\"Want to roll the dice again?(y/n): \")\n",
    "    if another_roll.lower() == \"y\":\n",
    "        continue\n",
    "    else:\n",
    "        break"
   ]
  },
  {
   "cell_type": "code",
   "execution_count": null,
   "id": "8e96a6f3",
   "metadata": {},
   "outputs": [],
   "source": []
  }
 ],
 "metadata": {
  "kernelspec": {
   "display_name": "Python 3",
   "language": "python",
   "name": "python3"
  },
  "language_info": {
   "codemirror_mode": {
    "name": "ipython",
    "version": 3
   },
   "file_extension": ".py",
   "mimetype": "text/x-python",
   "name": "python",
   "nbconvert_exporter": "python",
   "pygments_lexer": "ipython3",
   "version": "3.8.8"
  }
 },
 "nbformat": 4,
 "nbformat_minor": 5
}
